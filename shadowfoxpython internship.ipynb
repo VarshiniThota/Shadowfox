{
 "cells": [
  {
   "cell_type": "markdown",
   "id": "cdc0612d-dfa1-4e3e-bb94-676593bd9133",
   "metadata": {},
   "source": [
    "Python Developement internship at ShadowFox\n",
    "Name :Varshini\n",
    "Heading:Tasks Solutions\n"
   ]
  },
  {
   "cell_type": "markdown",
   "id": "cffafe4b-167c-4620-84ea-f83600400438",
   "metadata": {},
   "source": [
    "Task Level(Beginner) :\n"
   ]
  },
  {
   "cell_type": "code",
   "execution_count": 5,
   "id": "9e3899b3-89ec-419e-8503-4d50c793e2cd",
   "metadata": {},
   "outputs": [
    {
     "name": "stdout",
     "output_type": "stream",
     "text": [
      "Type of variable pi is :  <class 'float'>\n"
     ]
    }
   ],
   "source": [
    "#1.Variables\n",
    "#1\n",
    "pi=22/7\n",
    "\"\"\"To find the data type of variable we use type keyword\"\"\"\n",
    "print(\"Type of variable pi is : \",type(pi))"
   ]
  },
  {
   "cell_type": "code",
   "execution_count": 8,
   "id": "1fc2e69e-5a77-40fb-bcab-4efbb2ac7491",
   "metadata": {},
   "outputs": [
    {
     "ename": "SyntaxError",
     "evalue": "invalid syntax (61576749.py, line 4)",
     "output_type": "error",
     "traceback": [
      "\u001b[1;36m  Cell \u001b[1;32mIn[8], line 4\u001b[1;36m\u001b[0m\n\u001b[1;33m    for = 4\u001b[0m\n\u001b[1;37m        ^\u001b[0m\n\u001b[1;31mSyntaxError\u001b[0m\u001b[1;31m:\u001b[0m invalid syntax\n"
     ]
    }
   ],
   "source": [
    "#1 Variables\n",
    "#2\n",
    "\"\"\"We are assinging the value to the variable called for and seeing its nature\"\"\"\n",
    "for = 4\n"
   ]
  },
  {
   "cell_type": "markdown",
   "id": "e19e794d-8454-4672-81a8-0b1e4f8a8eb5",
   "metadata": {},
   "source": [
    "In the above problem we will getting a syntax error the reason for this error is: here assing value to the variable called for but for is already \n",
    "present in keyword. we cannot use keywords as variables in python."
   ]
  },
  {
   "cell_type": "code",
   "execution_count": 11,
   "id": "b71f13dd-eed1-4225-b240-4473e95b0ca7",
   "metadata": {},
   "outputs": [
    {
     "name": "stdout",
     "output_type": "stream",
     "text": [
      "Simple Interest =  5000.0\n"
     ]
    }
   ],
   "source": [
    "#1\n",
    "#3\n",
    "\"\"\"Here we are calculating simple interest by taking all the values\n",
    "   p-->principal amount\n",
    "   r-->rate of interest\n",
    "   t-->time\n",
    "   si-->simple interest\"\"\"\n",
    "p=100000\n",
    "r=5\n",
    "t=1\n",
    "si=p*r*t/100\n",
    "print(\"Simple Interest = \",si)"
   ]
  },
  {
   "cell_type": "code",
   "execution_count": 2,
   "id": "ed866a51-a9ac-48e5-ab0d-19f25767097b",
   "metadata": {},
   "outputs": [
    {
     "name": "stdout",
     "output_type": "stream",
     "text": [
      "221\n",
      "<class 'str'>\n"
     ]
    }
   ],
   "source": [
    "#2 Numbers\n",
    "#1 \n",
    "def func(a,b):\n",
    "    return format(a,b)\n",
    "a=145\n",
    "b='o'\n",
    "result=func(a,b)\n",
    "print(result)\n",
    "print(type(result))\n",
    "# \"\"\"The representation used here is octal representation \"\"\""
   ]
  },
  {
   "cell_type": "code",
   "execution_count": 18,
   "id": "03737d41-3652-46df-93d6-62e6921c8ee8",
   "metadata": {},
   "outputs": [
    {
     "name": "stdout",
     "output_type": "stream",
     "text": [
      "Area of pond 22155.84\n",
      "Total water in pond 31018\n"
     ]
    }
   ],
   "source": [
    "#2 Numbers\n",
    "#2\n",
    "\"\"\"r-->radius\n",
    "   pi-->3.14\n",
    "   ws-->water in square meter\n",
    "   a-->area of pond\n",
    "   tw-->total water in pond\"\"\"\n",
    "r=84\n",
    "pi=3.14\n",
    "a=(pi*(r**2))\n",
    "print(\"Area of pond\",a)\n",
    "ws=1.4\n",
    "tw=int(a*ws)\n",
    "print(\"Total water in pond\",tw)"
   ]
  },
  {
   "cell_type": "code",
   "execution_count": 22,
   "id": "e791c566-f352-4c62-93e1-b1c62cfff480",
   "metadata": {},
   "outputs": [
    {
     "name": "stdout",
     "output_type": "stream",
     "text": [
      "Speed =  70\n"
     ]
    }
   ],
   "source": [
    "#2 Numbers\n",
    "#3\n",
    "\"\"\" d-->distance\n",
    "    t-->time\"\"\"\n",
    "d=490\n",
    "t=7\n",
    "print(\"Speed = \",int(d/t))"
   ]
  },
  {
   "cell_type": "code",
   "execution_count": 59,
   "id": "5501dca0-ca86-49b1-b91d-7b3c34e4ecb1",
   "metadata": {},
   "outputs": [
    {
     "name": "stdout",
     "output_type": "stream",
     "text": [
      "No.of members in just_league :  6\n",
      "adding new members to the list \n",
      "New list after addition  ['Superman', 'Batman', 'WonderWoman', 'Flash', 'Aquaman', 'Green Lantern', 'Batgirl', 'Nightwing']\n",
      "New list after modification  ['WonderWoman', 'Batman', 'Superman', 'Flash', 'Aquaman', 'Green Lantern', 'Batgirl', 'Nightwing']\n",
      "New list after inserting Green latern between Flash and Aquaman  ['WonderWoman', 'Batman', 'Superman', 'Flash', 'Green Lantern', 'Aquaman', 'Batgirl', 'Nightwing']\n",
      "justice_league with new members  ['Superman', 'Cyborg', 'Shazam', 'Hawkgirl', 'MartianManhunter', 'Green Arrow']\n",
      "list after sorting : ['Cyborg', 'Green Arrow', 'Hawkgirl', 'MartianManhunter', 'Shazam', 'Superman']\n",
      "New leader : Cyborg\n"
     ]
    }
   ],
   "source": [
    "#3 Lists\n",
    "justice_league = [\"Superman\",\"Batman\",\"WonderWoman\",\"Flash\",\"Aquaman\",\"Green Lantern\"]\n",
    "#1\n",
    "print(\"No.of members in just_league : \",len(justice_league))\n",
    "#2\n",
    "print(\"adding new members to the list \")\n",
    "justice_league.append(\"Batgirl\")\n",
    "justice_league.append(\"Nightwing\")\n",
    "print(\"New list after addition \",justice_league)\n",
    "#3\n",
    "for i in justice_league :\n",
    "    if i=='WonderWoman' :\n",
    "        j=justice_league.index(i)\n",
    "        k=justice_league[0]\n",
    "        justice_league[0]=i\n",
    "        justice_league[j]=k\n",
    "print(\"New list after modification \",justice_league)\n",
    "#4\n",
    "for i in range(len(justice_league)) :\n",
    "    if justice_league[i]=='Flash' :\n",
    "        if justice_league[i + 1] == \"Aquaman\":\n",
    "            green_lantern_index = justice_league.index(\"Green Lantern\")\n",
    "            justice_league[i + 1] = \"Green Lantern\"\n",
    "            justice_league[green_lantern_index] = \"Aquaman\"\n",
    "            print(\"New list after inserting Green latern between Flash and Aquaman \",justice_league)\n",
    "#5\n",
    "justice_league = list(filter(lambda member: member == \"Superman\", justice_league))\n",
    "new_mem=[\"Cyborg\",\"Shazam\",\"Hawkgirl\",\"MartianManhunter\",\"Green Arrow\"]\n",
    "justice_league.extend(new_mem)\n",
    "print(\"justice_league with new members \",justice_league)\n",
    "#6\n",
    "justice_league.sort()\n",
    "print(\"list after sorting :\",justice_league)\n",
    "print(\"New leader :\",justice_league[0])\n",
    "\n",
    "\n",
    "\n",
    "        \n",
    "            \n",
    "        \n",
    "\n",
    "        \n",
    "        \n"
   ]
  },
  {
   "cell_type": "code",
   "execution_count": 70,
   "id": "f10d817d-e655-44c3-aaf5-5b494388d355",
   "metadata": {},
   "outputs": [
    {
     "name": "stdin",
     "output_type": "stream",
     "text": [
      "Enter height in meters 1.75\n",
      "Enter weight in kilograms 70\n"
     ]
    },
    {
     "name": "stdout",
     "output_type": "stream",
     "text": [
      "Normal\n"
     ]
    }
   ],
   "source": [
    "#4 If condition\n",
    "#1\n",
    "#h-->height,w-->weight,\n",
    "h=float(input(\"Enter height in meters\"))\n",
    "w=float(input(\"Enter weight in kilograms\"))\n",
    "BMI=(w/h**2)\n",
    "if BMI >=30 :\n",
    "    print(\"Obesity\")\n",
    "elif 25<= BMI < 30 :\n",
    "    print(\"Overweight\")\n",
    "elif 18.5<= BMI <25:\n",
    "    print(\"Normal\")\n",
    "else:\n",
    "    print(\"Underweight\")"
   ]
  },
  {
   "cell_type": "code",
   "execution_count": 74,
   "id": "65034161-9af0-464d-a320-5f6e70eda784",
   "metadata": {},
   "outputs": [
    {
     "name": "stdin",
     "output_type": "stream",
     "text": [
      "Enter a city name: Chennai\n"
     ]
    },
    {
     "name": "stdout",
     "output_type": "stream",
     "text": [
      "India\n"
     ]
    }
   ],
   "source": [
    "#4 if condition\n",
    "#2\n",
    "Australia = [\"Sydney\",\"Melbourne\",\"Brisbane\",\"Perth\"]\n",
    "UAE = [\"Dubai\",\"Abu Dhabi\",\"Sharjah\",\"Ajman\"]\n",
    "India = [\"Mumbai\",\"Bangalore\",\"Chennai\",\"Delhi\"]\n",
    "n=input(\"Enter a city name:\")\n",
    "if n in Australia :\n",
    "    print(\"Australia\")\n",
    "elif n in UAE :\n",
    "    print(\"UAE\")\n",
    "elif n in India :\n",
    "    print(\"India\")\n",
    "else :\n",
    "    print(\"Another country\")\n",
    "    "
   ]
  },
  {
   "cell_type": "code",
   "execution_count": 78,
   "id": "d5c904bd-1ad1-4c4b-9fc9-ad01cb2b43b5",
   "metadata": {},
   "outputs": [
    {
     "name": "stdin",
     "output_type": "stream",
     "text": [
      "Enter first city name: Chennai\n",
      "Enter second city name : Melbourne\n"
     ]
    },
    {
     "name": "stdout",
     "output_type": "stream",
     "text": [
      "They don't belong to the same country\n"
     ]
    }
   ],
   "source": [
    "#4 If condition\n",
    "#3\n",
    "Australia = [\"Sydney\",\"Melbourne\",\"Brisbane\",\"Perth\"]\n",
    "UAE = [\"Dubai\",\"Abu Dhabi\",\"Sharjah\",\"Ajman\"]\n",
    "India = [\"Mumbai\",\"Bangalore\",\"Chennai\",\"Delhi\"]\n",
    "n=input(\"Enter first city name:\")\n",
    "m=input(\"Enter second city name :\")\n",
    "if n in Australia and m in Australia :\n",
    "    print(\"Both cities are in Australia\")\n",
    "elif n in UAE and m in UAE :\n",
    "    print(\"Both cities are in UAE\")\n",
    "elif n in India and m in India :\n",
    "    print(\"Both cities are in India\")\n",
    "else :\n",
    "    print(\"They don't belong to the same country\")\n",
    "    "
   ]
  },
  {
   "cell_type": "code",
   "execution_count": 8,
   "id": "7b6afe46-bd33-4b58-841b-0a3bb2811588",
   "metadata": {},
   "outputs": [
    {
     "name": "stdout",
     "output_type": "stream",
     "text": [
      "[1, 3, 3, 4, 1, 2, 6, 2, 1, 4, 6, 4, 6, 1, 4, 4, 2, 1, 3, 3]\n",
      "No : of times you rolled 6 : 3\n",
      "No : of times you rolled 1 :  5\n",
      "No:of two consecutive sixes : 0\n"
     ]
    }
   ],
   "source": [
    "#5 for loop\n",
    "#1\n",
    "import random\n",
    "list1=[]\n",
    "count_two_consecutive_sixes=0\n",
    "for i in range(20) :\n",
    "    j=random.randint(1,6)\n",
    "    list1.append(j)\n",
    "print(list1)    \n",
    "print(\"No : of times you rolled 6 :\",list1.count(6))\n",
    "print(\"No : of times you rolled 1 : \",list1.count(1))\n",
    "for i in range(len(list1)-1):\n",
    "    if list1[i]==6 and list1[i+1]==6 :\n",
    "        count_two_consecutive_sixes+=1\n",
    "print(\"No:of two consecutive sixes :\",count_two_consecutive_sixes)        \n",
    "        \n",
    "        \n",
    "    \n"
   ]
  },
  {
   "cell_type": "code",
   "execution_count": 9,
   "id": "10fe1127-6896-4df4-bdc2-23162a8f62f6",
   "metadata": {},
   "outputs": [
    {
     "name": "stdout",
     "output_type": "stream",
     "text": [
      "You have completed 10 jumping jacks.\n"
     ]
    },
    {
     "name": "stdin",
     "output_type": "stream",
     "text": [
      "Are you tired ? : n\n"
     ]
    },
    {
     "name": "stdout",
     "output_type": "stream",
     "text": [
      "90 jumping jacks are remaining.\n",
      "You have completed 20 jumping jacks.\n"
     ]
    },
    {
     "name": "stdin",
     "output_type": "stream",
     "text": [
      "Are you tired ? : n\n"
     ]
    },
    {
     "name": "stdout",
     "output_type": "stream",
     "text": [
      "80 jumping jacks are remaining.\n",
      "You have completed 30 jumping jacks.\n"
     ]
    },
    {
     "name": "stdin",
     "output_type": "stream",
     "text": [
      "Are you tired ? : n\n"
     ]
    },
    {
     "name": "stdout",
     "output_type": "stream",
     "text": [
      "70 jumping jacks are remaining.\n",
      "You have completed 40 jumping jacks.\n"
     ]
    },
    {
     "name": "stdin",
     "output_type": "stream",
     "text": [
      "Are you tired ? : n\n"
     ]
    },
    {
     "name": "stdout",
     "output_type": "stream",
     "text": [
      "60 jumping jacks are remaining.\n",
      "You have completed 50 jumping jacks.\n"
     ]
    },
    {
     "name": "stdin",
     "output_type": "stream",
     "text": [
      "Are you tired ? : n\n"
     ]
    },
    {
     "name": "stdout",
     "output_type": "stream",
     "text": [
      "50 jumping jacks are remaining.\n",
      "You have completed 60 jumping jacks.\n"
     ]
    },
    {
     "name": "stdin",
     "output_type": "stream",
     "text": [
      "Are you tired ? : n\n"
     ]
    },
    {
     "name": "stdout",
     "output_type": "stream",
     "text": [
      "40 jumping jacks are remaining.\n",
      "You have completed 70 jumping jacks.\n"
     ]
    },
    {
     "name": "stdin",
     "output_type": "stream",
     "text": [
      "Are you tired ? : n\n"
     ]
    },
    {
     "name": "stdout",
     "output_type": "stream",
     "text": [
      "30 jumping jacks are remaining.\n",
      "You have completed 80 jumping jacks.\n"
     ]
    },
    {
     "name": "stdin",
     "output_type": "stream",
     "text": [
      "Are you tired ? : n\n"
     ]
    },
    {
     "name": "stdout",
     "output_type": "stream",
     "text": [
      "20 jumping jacks are remaining.\n",
      "You have completed 90 jumping jacks.\n"
     ]
    },
    {
     "name": "stdin",
     "output_type": "stream",
     "text": [
      "Are you tired ? : n\n"
     ]
    },
    {
     "name": "stdout",
     "output_type": "stream",
     "text": [
      "10 jumping jacks are remaining.\n",
      "Congratulations! You completed the workout\n"
     ]
    }
   ],
   "source": [
    "#5 for loop\n",
    "#2\n",
    "for i in range(0,101,10) :\n",
    "    if i==0 :\n",
    "        continue\n",
    "    if i==100 :\n",
    "        print(\"Congratulations! You completed the workout\")\n",
    "        break\n",
    "    elif i%10==0 :\n",
    "        print(f\"You have completed {i} jumping jacks.\")\n",
    "        resp=input(\"Are you tired ? :\")\n",
    "        resp=resp.lower()\n",
    "        if resp=='y' or resp=='yes' :\n",
    "            print(\"You completed a total of {} jumping jacks \".format(i))\n",
    "            break\n",
    "        elif resp=='n' or resp=='no' :\n",
    "            print(f\"{100 - i} jumping jacks are remaining.\")\n",
    "            \n",
    "            \n",
    "    \n",
    "    \n",
    "    "
   ]
  },
  {
   "cell_type": "code",
   "execution_count": 6,
   "id": "8ce294d7-ee25-4b35-9ffc-41df5720ad44",
   "metadata": {},
   "outputs": [
    {
     "name": "stdout",
     "output_type": "stream",
     "text": [
      "0\n",
      "10\n",
      "20\n",
      "30\n",
      "40\n",
      "50\n",
      "60\n",
      "70\n",
      "80\n",
      "90\n"
     ]
    }
   ],
   "source": [
    "for i in range(0,100,10) :\n",
    "    print(i)"
   ]
  },
  {
   "cell_type": "code",
   "execution_count": 10,
   "id": "b5fa800e-7379-4ac7-940a-ee0f4d069b90",
   "metadata": {},
   "outputs": [
    {
     "name": "stdout",
     "output_type": "stream",
     "text": [
      "You have completed 10 jumping jacks.\n"
     ]
    },
    {
     "name": "stdin",
     "output_type": "stream",
     "text": [
      "Are you tired? (yes/y or no/n):  y\n"
     ]
    },
    {
     "name": "stdout",
     "output_type": "stream",
     "text": [
      "You completed a total of 10 jumping jacks.\n"
     ]
    }
   ],
   "source": [
    "for i in range(10, 101, 10):  \n",
    "    if i == 100:\n",
    "        print(\"Congratulations! You completed the workout\")\n",
    "        break\n",
    "    print(f\"You have completed {i} jumping jacks.\")\n",
    "    resp = input(\"Are you tired? (yes/y or no/n): \").strip().lower()\n",
    "    if resp in ['y', 'yes']:\n",
    "        print(f\"You completed a total of {i} jumping jacks.\")\n",
    "        break\n",
    "    elif resp in ['n', 'no']:\n",
    "        print(f\"{100 - i} jumping jacks are remaining.\")\n"
   ]
  },
  {
   "cell_type": "markdown",
   "id": "e9a25751-e6a2-4bc0-aecd-e58a097ec3f4",
   "metadata": {},
   "source": [
    "Task level : Intermediate\n"
   ]
  },
  {
   "cell_type": "code",
   "execution_count": 2,
   "id": "2efe8de4-fa94-4736-95c1-72c06c4e87b1",
   "metadata": {},
   "outputs": [
    {
     "name": "stdout",
     "output_type": "stream",
     "text": [
      "\n",
      "\n",
      "Rank\n",
      "\n",
      "MidshipmanMIDN\n",
      "\n",
      "Lieutenant junior gradeO-2\n",
      "\n",
      "LieutenantO-3\n",
      "\n",
      "Lieutenant commanderO-4\n",
      "\n",
      "CommanderO-5\n",
      "\n",
      "CaptainO-6\n",
      "\n",
      "Commodore/Rear admiral (lower half)O-7\n",
      "\n",
      "\n",
      "Insignia\n",
      "\n",
      "N/A\n",
      "\n",
      "\n",
      "\n",
      "\n",
      "\n",
      "\n",
      "\n",
      "\n",
      "\n",
      "\n",
      "\n",
      "\n",
      "\n",
      "\n",
      "Date\n",
      "\n",
      "May 4, 1944[55]\n",
      "\n",
      "June 27, 1944[55]\n",
      "\n",
      "June 1, 1946[55]\n",
      "\n",
      "April 1, 1952[55]\n",
      "\n",
      "July 1, 1957[55][n 1]\n",
      "\n",
      "August 2, 1973[55]\n",
      "\n",
      "December 15, 1983[37]/redesignated November 8, 1985[56]\n",
      "\n",
      "\n",
      "\n",
      "Defense Distinguished Service Medal(1986)\n",
      "\n",
      "Legion of Merit(1967)\n",
      "\n",
      "Meritorious Service Medal(1980)\n",
      "\n",
      "\n",
      "Presidential Medal of Freedom(2016, Posthumous)\n",
      "\n",
      "American Campaign Medal(1944)\n",
      "\n",
      "World War II Victory Medal(1945)\n",
      "\n",
      "\n",
      "National Defense Service Medal with bronze service star(1953, 1966)\n",
      "\n",
      "Armed Forces Reserve Medalwith two bronze hourglass devices(1963, 1973, 1983)\n",
      "\n",
      "Naval Reserve Medal(1953)\n",
      "\n"
     ]
    }
   ],
   "source": [
    "#1 web scrapping\n",
    "import requests\n",
    "import bs4\n",
    "res = requests.get('https://en.wikipedia.org/wiki/Grace_Hopper')\n",
    "soup=bs4.BeautifulSoup(res.text,\"lxml\")\n",
    "soup.select(\".wikitable\")\n",
    "first_item=soup.select('.wikitable')[0]\n",
    "\n",
    "for item in soup.select('.wikitable'):\n",
    "    print(item.text)\n"
   ]
  },
  {
   "cell_type": "code",
   "execution_count": 1,
   "id": "01a0c500-5107-4d2a-bfdc-d22385757df9",
   "metadata": {},
   "outputs": [
    {
     "name": "stdout",
     "output_type": "stream",
     "text": [
      "Welcome to Hangman!\n",
      "Hint: A greeting\n",
      "Guess the word:\n",
      "_ _ _ _ _\n",
      "\n",
      "\n",
      "\n",
      "       -----\n",
      "       |   |\n",
      "           |\n",
      "           |\n",
      "           |\n",
      "           |\n",
      "    =========\n",
      "    \n"
     ]
    },
    {
     "name": "stdin",
     "output_type": "stream",
     "text": [
      "Guess a letter:  w\n"
     ]
    },
    {
     "name": "stdout",
     "output_type": "stream",
     "text": [
      "Wrong! You have 5 attempts left.\n",
      "_ _ _ _ _\n",
      "\n",
      "\n",
      "\n",
      "       -----\n",
      "       |   |\n",
      "       O   |\n",
      "           |\n",
      "           |\n",
      "           |\n",
      "    =========\n",
      "    \n"
     ]
    },
    {
     "name": "stdin",
     "output_type": "stream",
     "text": [
      "Guess a letter:  h\n"
     ]
    },
    {
     "name": "stdout",
     "output_type": "stream",
     "text": [
      "Correct!\n",
      "h _ _ _ _\n",
      "\n",
      "\n",
      "\n",
      "       -----\n",
      "       |   |\n",
      "       O   |\n",
      "           |\n",
      "           |\n",
      "           |\n",
      "    =========\n",
      "    \n"
     ]
    },
    {
     "name": "stdin",
     "output_type": "stream",
     "text": [
      "Guess a letter:  e\n"
     ]
    },
    {
     "name": "stdout",
     "output_type": "stream",
     "text": [
      "Correct!\n",
      "h e _ _ _\n",
      "\n",
      "\n",
      "\n",
      "       -----\n",
      "       |   |\n",
      "       O   |\n",
      "           |\n",
      "           |\n",
      "           |\n",
      "    =========\n",
      "    \n"
     ]
    },
    {
     "name": "stdin",
     "output_type": "stream",
     "text": [
      "Guess a letter:  l\n"
     ]
    },
    {
     "name": "stdout",
     "output_type": "stream",
     "text": [
      "Correct!\n",
      "h e l l _\n",
      "\n",
      "\n",
      "\n",
      "       -----\n",
      "       |   |\n",
      "       O   |\n",
      "           |\n",
      "           |\n",
      "           |\n",
      "    =========\n",
      "    \n"
     ]
    },
    {
     "name": "stdin",
     "output_type": "stream",
     "text": [
      "Guess a letter:  0\n"
     ]
    },
    {
     "name": "stdout",
     "output_type": "stream",
     "text": [
      "Wrong! You have 4 attempts left.\n",
      "h e l l _\n",
      "\n",
      "\n",
      "\n",
      "       -----\n",
      "       |   |\n",
      "       O   |\n",
      "       |   |\n",
      "           |\n",
      "           |\n",
      "    =========\n",
      "    \n"
     ]
    },
    {
     "name": "stdin",
     "output_type": "stream",
     "text": [
      "Guess a letter:  o\n"
     ]
    },
    {
     "name": "stdout",
     "output_type": "stream",
     "text": [
      "Correct!\n",
      "h e l l o\n",
      "\n",
      "Congratulations! You guessed the word: hello\n"
     ]
    }
   ],
   "source": [
    "#2 Hangman \n",
    "import random\n",
    "\n",
    "HANGMAN_STAGES = [\n",
    "    \"\"\"\n",
    "       -----\n",
    "       |   |\n",
    "           |\n",
    "           |\n",
    "           |\n",
    "           |\n",
    "    =========\n",
    "    \"\"\",\n",
    "    \"\"\"\n",
    "       -----\n",
    "       |   |\n",
    "       O   |\n",
    "           |\n",
    "           |\n",
    "           |\n",
    "    =========\n",
    "    \"\"\",\n",
    "    \"\"\"\n",
    "       -----\n",
    "       |   |\n",
    "       O   |\n",
    "       |   |\n",
    "           |\n",
    "           |\n",
    "    =========\n",
    "    \"\"\",\n",
    "    \"\"\"\n",
    "       -----\n",
    "       |   |\n",
    "       O   |\n",
    "      /|   |\n",
    "           |\n",
    "           |\n",
    "    =========\n",
    "    \"\"\",\n",
    "    \"\"\"\n",
    "       -----\n",
    "       |   |\n",
    "       O   |\n",
    "      /|\\\\  |\n",
    "           |\n",
    "           |\n",
    "    =========\n",
    "    \"\"\",\n",
    "    \"\"\"\n",
    "       -----\n",
    "       |   |\n",
    "       O   |\n",
    "      /|\\\\  |\n",
    "      /    |\n",
    "           |\n",
    "    =========\n",
    "    \"\"\",\n",
    "    \"\"\"\n",
    "       -----\n",
    "       |   |\n",
    "       O   |\n",
    "      /|\\\\  |\n",
    "      / \\\\  |\n",
    "           |\n",
    "    =========\n",
    "    \"\"\"\n",
    "]\n",
    "\n",
    "word_list = [\n",
    "    (\"hello\", \"A greeting\"),\n",
    "    (\"python\", \"A programming language\"),\n",
    "    (\"elephant\", \"A large animal\"),\n",
    "    (\"hangman\", \"The name of the game\")\n",
    "]\n",
    "\n",
    "def display_hangman(attempts_left):\n",
    "    print(HANGMAN_STAGES[len(HANGMAN_STAGES) - attempts_left - 1])\n",
    "\n",
    "def hangman():\n",
    "    choice1, hint = random.choice(word_list)\n",
    "    attempts = len(HANGMAN_STAGES) - 1\n",
    "    guessed_word = ['_'] * len(choice1)\n",
    "    guessed_letters = set()\n",
    "    \n",
    "    print(\"Welcome to Hangman!\")\n",
    "    print(f\"Hint: {hint}\")\n",
    "    print(\"Guess the word:\")\n",
    "    print(\" \".join(guessed_word))\n",
    "    \n",
    "    while attempts > 0:\n",
    "        print(\"\\n\")\n",
    "        display_hangman(attempts)\n",
    "        guess = input(\"Guess a letter: \").lower()\n",
    "        \n",
    "        if guess in guessed_letters:\n",
    "            print(f\"You already guessed '{guess}'. Try another letter.\")\n",
    "            continue\n",
    "        \n",
    "        guessed_letters.add(guess)\n",
    "        \n",
    "        if guess in choice1:\n",
    "            for i, letter in enumerate(choice1):\n",
    "                if letter == guess:\n",
    "                    guessed_word[i] = guess\n",
    "            print(\"Correct!\")\n",
    "        else:\n",
    "            attempts -= 1\n",
    "            print(f\"Wrong! You have {attempts} attempts left.\")\n",
    "        \n",
    "        print(\" \".join(guessed_word))\n",
    "        \n",
    "        if \"_\" not in guessed_word:\n",
    "            print(\"\\nCongratulations! You guessed the word:\", choice1)\n",
    "            return\n",
    "    \n",
    "    display_hangman(0)\n",
    "    print(\"\\nYou ran out of attempts! The word was:\", choice1)\n",
    "\n",
    "# Run the game\n",
    "hangman()"
   ]
  },
  {
   "cell_type": "code",
   "execution_count": null,
   "id": "8c1a2edd-5014-43d4-9d9d-2df4e58e44b4",
   "metadata": {},
   "outputs": [],
   "source": []
  }
 ],
 "metadata": {
  "kernelspec": {
   "display_name": "Python 3 (ipykernel)",
   "language": "python",
   "name": "python3"
  },
  "language_info": {
   "codemirror_mode": {
    "name": "ipython",
    "version": 3
   },
   "file_extension": ".py",
   "mimetype": "text/x-python",
   "name": "python",
   "nbconvert_exporter": "python",
   "pygments_lexer": "ipython3",
   "version": "3.11.7"
  }
 },
 "nbformat": 4,
 "nbformat_minor": 5
}
